{
 "cells": [
  {
   "cell_type": "markdown",
   "metadata": {},
   "source": [
    "# QTM 385\n",
    "\n",
    "***\n",
    "\n",
    "## Homework 4\n",
    "\n",
    "Student: [2361316]"
   ]
  },
  {
   "cell_type": "markdown",
   "metadata": {},
   "source": [
    "In this homework, we will create an object called Student, that is useful for a professor to store information about a student."
   ]
  },
  {
   "cell_type": "markdown",
   "metadata": {},
   "source": [
    "\n",
    "***\n",
    "\n",
    "### Question 1\n",
    "\n",
    "Create a class Student, that has:\n",
    "\n",
    "0. Id number (5-digits integer, starting with 1)\n",
    "1. First Name (str)\n",
    "2. Last Name (str)\n",
    "3. Grades (list of floats)\n",
    "4. Credits (list of integers)\n",
    "5. Major (str)\n",
    "\n",
    "Provide a constructor for your class and create one fictitious student."
   ]
  },
  {
   "cell_type": "code",
   "execution_count": 2,
   "metadata": {},
   "outputs": [],
   "source": [
    "class Student:\n",
    "    def __init__(self,idnum,fname,lname,gr,cr,mj):\n",
    "        self.ID=idnum\n",
    "        self.firstName=fname\n",
    "        self.lastName=lname\n",
    "        self.grades=gr\n",
    "        self.credits=cr\n",
    "        self.major=mj\n",
    "\n",
    "student = Student(2361316,'Jason','Wang',[3.8,3.8,3.8],[12,13,14],'QSS')"
   ]
  },
  {
   "cell_type": "markdown",
   "metadata": {},
   "source": [
    "\n",
    "***\n",
    "\n",
    "### Question 2\n",
    "\n",
    "Create a method to nicely display the student when we type `print`. It should display, for example:\n",
    "\n",
    "```\n",
    "Student:\n",
    "    Id: 12345\n",
    "    Name: Mig, Umberto\n",
    "    Major: QSS\n",
    "```\n",
    "\n",
    "Create a method that, when a variable storing a student is typed in the console, displays:\n",
    "\n",
    "```\n",
    "Student(Mig, Umberto; 12345)\n",
    "```\n",
    "\n",
    "Provide some testing with a fictitious result of your choice."
   ]
  },
  {
   "cell_type": "code",
   "execution_count": 16,
   "metadata": {},
   "outputs": [
    {
     "name": "stdout",
     "output_type": "stream",
     "text": [
      "\n",
      "Student:\n",
      "    Id: 2361316\n",
      "    Name: Wang, Jason\n",
      "    Major: QSS\n",
      "        \n"
     ]
    },
    {
     "data": {
      "text/plain": [
       "Student(Wang, Jason; 2361316)"
      ]
     },
     "execution_count": 16,
     "metadata": {},
     "output_type": "execute_result"
    }
   ],
   "source": [
    "        \n",
    "    def __str__(self):\n",
    "        st_info=\"\"\"\n",
    "Student:\n",
    "    Id: {idnum}\n",
    "    Name: {lname}, {fname}\n",
    "    Major: {mj}\n",
    "        \"\"\".format(idnum=str(self.ID),fname=str(self.firstName),lname=str(self.lastName),mj=str(self.major))\n",
    "        return st_info\n",
    "    \n",
    "    def __repr__(self):\n",
    "        return \"Student({lname}, {fname}; {idnum})\".format(fname=self.firstName,lname=self.lastName,idnum=self.ID)\n",
    "    \n",
    "student = Student(2361316,'Jason','Wang',[3.8,3.8,3.8],[12,13,14],'QSS')\n",
    "print(student)\n",
    "student"
   ]
  },
  {
   "cell_type": "markdown",
   "metadata": {},
   "source": [
    "\n",
    "***\n",
    "\n",
    "### Question 3\n",
    "\n",
    "Implement class methods for:\n",
    "\n",
    "1. Check if the id number is valid (remember: 5 digits, starting with number one)\n",
    "2. Check if the grades list has the same length as the credits list. The idea is that every grade corresponds to a course that gave the student a certain amount of credits.\n",
    "3. Append grade and credit: given a grade, and credits attached to the grade, append both to each respective place.\n",
    "\n",
    "Test your function with a toy student of your choice."
   ]
  },
  {
   "cell_type": "code",
   "execution_count": 29,
   "metadata": {},
   "outputs": [
    {
     "name": "stdout",
     "output_type": "stream",
     "text": [
      "True\n",
      "True\n",
      "[[3.8, 2], [3.8, 3], [3.8, 4]]\n"
     ]
    }
   ],
   "source": [
    "class Student:\n",
    "    def __init__(self,idnum,fname,lname,gr,cr,mj):\n",
    "        self.ID=idnum\n",
    "        self.firstName=fname\n",
    "        self.lastName=lname\n",
    "        self.grades=gr\n",
    "        self.credits=cr\n",
    "        self.major=mj\n",
    "        \n",
    "    def id_check(self):\n",
    "        return len(str(self.ID)) == 7 and str(self.ID)[0] == '2'\n",
    "    \n",
    "    def gr_check(self):\n",
    "        return len(self.grades) == len(self.credits)\n",
    "    \n",
    "    def append(self):\n",
    "        final=[]\n",
    "        for i in range(len(self.grades)):\n",
    "            res = []\n",
    "            res.append(self.grades[i])\n",
    "            res.append(self.credits[i])\n",
    "            final.append(res)\n",
    "        return final\n",
    "\n",
    "student = Student(2361316,'Jason','Wang',[3.8,3.8,3.8],[2,3,4],'QSS')\n",
    "\n",
    "print(student.id_check())\n",
    "\n",
    "print(student.gr_check())\n",
    "\n",
    "print(student.append())"
   ]
  },
  {
   "cell_type": "markdown",
   "metadata": {},
   "source": [
    "\n",
    "***\n",
    "\n",
    "### Question 4\n",
    "\n",
    "Create a module in the class Student that computes the unweighted average of the student's grades."
   ]
  },
  {
   "cell_type": "code",
   "execution_count": 34,
   "metadata": {},
   "outputs": [
    {
     "data": {
      "text/plain": [
       "3.9"
      ]
     },
     "execution_count": 34,
     "metadata": {},
     "output_type": "execute_result"
    }
   ],
   "source": [
    "\n",
    "class Student:\n",
    "    def __init__(self,idnum,fname,lname,gr,cr,mj):\n",
    "        self.ID=idnum\n",
    "        self.firstName=fname\n",
    "        self.lastName=lname\n",
    "        self.grades=gr\n",
    "        self.credits=cr\n",
    "        self.major=mj\n",
    "    def unweighted_avg(self):\n",
    "        avg = 0\n",
    "        for i in self.grades:\n",
    "            avg += i\n",
    "        avg = avg / len(self.grades)\n",
    "        return avg\n",
    "    \n",
    "student = Student(2361316,'Jason','Wang',[3.8,3.9,4.0],[2,3,4],'QSS')\n",
    "student.unweighted_avg()"
   ]
  },
  {
   "cell_type": "markdown",
   "metadata": {},
   "source": [
    "\n",
    "***\n",
    "\n",
    "### Question 5\n",
    "\n",
    "Create a module in the class Student that computes the weighted average of the student's grades, weighted by the credits."
   ]
  },
  {
   "cell_type": "code",
   "execution_count": 35,
   "metadata": {},
   "outputs": [
    {
     "data": {
      "text/plain": [
       "3.9222222222222216"
      ]
     },
     "execution_count": 35,
     "metadata": {},
     "output_type": "execute_result"
    }
   ],
   "source": [
    "class Student:\n",
    "    def __init__(self,idnum,fname,lname,gr,cr,mj):\n",
    "        self.ID=idnum\n",
    "        self.firstName=fname\n",
    "        self.lastName=lname\n",
    "        self.grades=gr\n",
    "        self.credits=cr\n",
    "        self.major=mj\n",
    "    \n",
    "    def weighted_avg(self):\n",
    "        avg = 0\n",
    "        crd = 0\n",
    "        for i in self.credits:\n",
    "            crd += i\n",
    "        for j in range(len(self.grades)):\n",
    "            avg += self.grades[j]*(self.credits[j]/crd)\n",
    "        return avg\n",
    "    \n",
    "    \n",
    "student = Student(2361316,'Jason','Wang',[3.8,3.9,4.0],[2,3,4],'QSS')\n",
    "student.weighted_avg()"
   ]
  },
  {
   "cell_type": "markdown",
   "metadata": {},
   "source": [
    "**That's all, folks!**"
   ]
  }
 ],
 "metadata": {
  "kernelspec": {
   "display_name": "Python 3",
   "language": "python",
   "name": "python3"
  },
  "language_info": {
   "codemirror_mode": {
    "name": "ipython",
    "version": 3
   },
   "file_extension": ".py",
   "mimetype": "text/x-python",
   "name": "python",
   "nbconvert_exporter": "python",
   "pygments_lexer": "ipython3",
   "version": "3.8.3"
  }
 },
 "nbformat": 4,
 "nbformat_minor": 4
}
